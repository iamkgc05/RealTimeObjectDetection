{
 "cells": [
  {
   "cell_type": "code",
   "execution_count": null,
   "id": "1cf8e820",
   "metadata": {},
   "outputs": [],
   "source": [
    "import cv2\n",
    "import os\n",
    "import time\n",
    "import uuid"
   ]
  },
  {
   "cell_type": "code",
   "execution_count": null,
   "id": "5f3df2d1",
   "metadata": {},
   "outputs": [],
   "source": [
    "CHEMIN = 'Tensorflow/workspace/images/collectedImages'"
   ]
  },
  {
   "cell_type": "code",
   "execution_count": null,
   "id": "6eb29bb4",
   "metadata": {},
   "outputs": [],
   "source": [
    "labels = ['hello', 'thanks', 'yes', 'no', 'iloveyou', 'je suis meilleur que yuna']\n",
    "number = 15"
   ]
  },
  {
   "cell_type": "code",
   "execution_count": null,
   "id": "7caa87f4",
   "metadata": {},
   "outputs": [],
   "source": [
    "for label in labels:\n",
    "    !mkdir {'Tensorflow\\workspace\\images\\collectedImages\\\\' +label}\n",
    "    cap = cv2.VideoCapture(0)\n",
    "    print('Collecting images for {}'.format(label))\n",
    "    time.sleep(5)\n",
    "    for imgnum in range(number):\n",
    "        ret, frame = cap.read()\n",
    "        image_name = os.path.join(CHEMIN, label, label + '.'+ '{}.jpg'.format(str(uuid.uuid1())))\n",
    "        cv2.imwrite(image_name, frame)\n",
    "        cv2.imshow('frame', frame)\n",
    "        time.sleep(1)\n",
    "        if cv2.waitKey(1) & 0xFF == ord('q'):\n",
    "            break\n",
    "    cap.release()\n"
   ]
  }
 ],
 "metadata": {
  "language_info": {
   "name": "python"
  }
 },
 "nbformat": 4,
 "nbformat_minor": 5
}
