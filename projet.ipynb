{
 "cells": [
  {
   "cell_type": "code",
   "execution_count": 6,
   "id": "1cf8e820",
   "metadata": {},
   "outputs": [],
   "source": [
    "import cv2\n",
    "import os\n",
    "import time\n",
    "import uuid"
   ]
  },
  {
   "cell_type": "code",
   "execution_count": 7,
   "id": "5f3df2d1",
   "metadata": {},
   "outputs": [],
   "source": [
    "CHEMIN = 'Tensorflow/workspace/images/collectedImages'"
   ]
  },
  {
   "cell_type": "code",
   "execution_count": 8,
   "id": "6eb29bb4",
   "metadata": {},
   "outputs": [],
   "source": [
    "labels = ['hello', 'thanks', 'yes', 'no', 'iloveyou', 'je suis meilleur que yuna']\n",
    "number = 15"
   ]
  },
  {
   "cell_type": "code",
   "execution_count": null,
   "id": "7caa87f4",
   "metadata": {},
   "outputs": [
    {
     "name": "stderr",
     "output_type": "stream",
     "text": [
      "Un sous-r�pertoire ou un fichier Tensorflow/workspace/images/collectedImages/hello existe d�j�.\n"
     ]
    },
    {
     "name": "stdout",
     "output_type": "stream",
     "text": [
      "Collecting images for hello\n"
     ]
    },
    {
     "name": "stderr",
     "output_type": "stream",
     "text": [
      "Un sous-r�pertoire ou un fichier Tensorflow/workspace/images/collectedImages/thanks existe d�j�.\n"
     ]
    },
    {
     "name": "stdout",
     "output_type": "stream",
     "text": [
      "Collecting images for thanks\n"
     ]
    },
    {
     "name": "stderr",
     "output_type": "stream",
     "text": [
      "Un sous-r�pertoire ou un fichier Tensorflow/workspace/images/collectedImages/yes existe d�j�.\n"
     ]
    },
    {
     "name": "stdout",
     "output_type": "stream",
     "text": [
      "Collecting images for yes\n"
     ]
    },
    {
     "name": "stderr",
     "output_type": "stream",
     "text": [
      "Un sous-r�pertoire ou un fichier Tensorflow/workspace/images/collectedImages/no existe d�j�.\n"
     ]
    },
    {
     "name": "stdout",
     "output_type": "stream",
     "text": [
      "Collecting images for no\n"
     ]
    },
    {
     "name": "stderr",
     "output_type": "stream",
     "text": [
      "Un sous-r�pertoire ou un fichier Tensorflow/workspace/images/collectedImages/iloveyou existe d�j�.\n"
     ]
    },
    {
     "name": "stdout",
     "output_type": "stream",
     "text": [
      "Collecting images for iloveyou\n"
     ]
    },
    {
     "name": "stderr",
     "output_type": "stream",
     "text": [
      "Un sous-r�pertoire ou un fichier Tensorflow/workspace/images/collectedImages/je suis meilleur que yuna existe d�j�.\n"
     ]
    },
    {
     "name": "stdout",
     "output_type": "stream",
     "text": [
      "Collecting images for je suis meilleur que yuna\n"
     ]
    },
    {
     "ename": "",
     "evalue": "",
     "output_type": "error",
     "traceback": [
      "\u001b[1;31mThe Kernel crashed while executing code in the current cell or a previous cell. \n",
      "\u001b[1;31mPlease review the code in the cell(s) to identify a possible cause of the failure. \n",
      "\u001b[1;31mClick <a href='https://aka.ms/vscodeJupyterKernelCrash'>here</a> for more info. \n",
      "\u001b[1;31mView Jupyter <a href='command:jupyter.viewOutput'>log</a> for further details."
     ]
    }
   ],
   "source": [
    "for label in labels:\n",
    "    !mkdir \"Tensorflow/workspace/images/collectedImages/{label}\"\n",
    "    cap = cv2.VideoCapture(0)\n",
    "    print('Collecting images for {}'.format(label))\n",
    "    time.sleep(5)\n",
    "    for imgnum in range(number):\n",
    "        ret, frame = cap.read()\n",
    "        image_name = os.path.join(CHEMIN, label, label + '.'+ '{}.jpg'.format(str(uuid.uuid1())))\n",
    "        cv2.imwrite(image_name, frame)\n",
    "        cv2.imshow('frame', frame)\n",
    "        time.sleep(1)\n",
    "        if cv2.waitKey(1) & 0xFF == ord('q'):\n",
    "            break\n",
    "    cap.release()\n"
   ]
  }
 ],
 "metadata": {
  "kernelspec": {
   "display_name": "Python 3",
   "language": "python",
   "name": "python3"
  },
  "language_info": {
   "codemirror_mode": {
    "name": "ipython",
    "version": 3
   },
   "file_extension": ".py",
   "mimetype": "text/x-python",
   "name": "python",
   "nbconvert_exporter": "python",
   "pygments_lexer": "ipython3",
   "version": "3.10.6"
  }
 },
 "nbformat": 4,
 "nbformat_minor": 5
}
